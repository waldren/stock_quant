{
 "cells": [
  {
   "cell_type": "code",
   "execution_count": null,
   "metadata": {},
   "outputs": [],
   "source": [
    "import pandas as pd\n",
    "import numpy as np\n",
    "import pickle\n",
    "import time\n",
    "import yaml\n",
    "import datetime"
   ]
  },
  {
   "cell_type": "code",
   "execution_count": null,
   "metadata": {},
   "outputs": [],
   "source": [
    "from stockprocessing.baseprocessors import SqueezeProcessor, TestProcessor"
   ]
  },
  {
   "cell_type": "code",
   "execution_count": null,
   "metadata": {},
   "outputs": [],
   "source": [
    "def getstock(symbol)->pd.DataFrame:\n",
    "    dir = './data/stock_history'\n",
    "\n",
    "    filename = f'{symbol}.pickle'  #utils.get_random_file(dir)\n",
    " \n",
    "    with open(f\"{dir}/{filename}\", 'rb') as handle:\n",
    "        history = pickle.load(handle)\n",
    "    return history\n",
    "\n",
    "def truncate(df:pd.DataFrame, sdate, edate, keep_cols)->pd.DataFrame:\n",
    "    return df.loc[sdate:edate][keep_cols]"
   ]
  },
  {
   "cell_type": "code",
   "execution_count": null,
   "metadata": {},
   "outputs": [],
   "source": [
    "def calc_slope(x:np.array)-> float:\n",
    "    slope = np.polyfit(range(len(x)), x, 1)[0]\n",
    "    return slope\n",
    "\n",
    "def normalize_data(x:np.array)->np.array:\n",
    "    min = x.min()\n",
    "    max = x.max()\n",
    "    \n",
    "    # normalization part\n",
    "    norm = (x - min) / (max - min)\n",
    "    \n",
    "    return norm"
   ]
  },
  {
   "cell_type": "code",
   "execution_count": null,
   "metadata": {},
   "outputs": [],
   "source": [
    "import warnings\n",
    "import scipy.signal as sig \n",
    "\n",
    "def find_extrema(x:pd.Dataframe, col_name='close', use_cwt=False, width=3, distance=3, prominence=0, ):\n",
    "    with warnings.catch_warnings():\n",
    "        warnings.filterwarnings(\"ignore\", message=\"some peaks have.*\")\n",
    "        if use_cwt:\n",
    "            peaks = sig.find_peaks_cwt(x[col_name], width)\n",
    "        else:\n",
    "            peaks = sig.find_peaks(x[col_name], distance=distance, \n",
    "                            prominence=prominence, width=width)[0]\n",
    "\n",
    "        pw_half = sig.peak_widths(x[col_name], peaks, rel_height=0.5)[0]\n",
    "        pw_full = sig.peak_widths(x[col_name], peaks, rel_height=1)[0]\n",
    "        prom = sig.peak_prominences(x[col_name], peaks)[0]\n",
    "\n",
    "    print(f'[{x.index[0]}:{x.index[-1]} {col_name}] - Mean(std):  {round(pw_full.mean(), 3)}({round(pw_full.std(), 3)}) Width and {round(prom.mean(), 3)}({round(prom.std(), 3)}) Prominence')\n",
    "    \n",
    "    v = np.zeros(x.shape[0])\n",
    "    pr = np.zeros(x.shape[0])\n",
    "    ph = np.zeros(x.shape[0])\n",
    "    pf = np.zeros(x.shape[0])\n",
    "    j = 0\n",
    "    dt = x.index.values\n",
    "    for t in zip(peaks, pw_half, pw_full, prom):\n",
    "        idx = t[0]\n",
    "        hw = int(t[1]/2)\n",
    "        fw = int(t[2]/2)\n",
    "        # Exclude peaks less than width and prominence thresholds\n",
    "        if t[2] > width and t[3] > prominence:\n",
    "            v[idx] = 1\n",
    "            ph[idx] = t[1]\n",
    "            pf[idx] = t[2]\n",
    "            pr[idx] = t[3] \n",
    "        else:\n",
    "            if t[3] != 0:\n",
    "                print(f'Rejected peak {dt[idx]} with {t[2]} Width and {t[3]} Prominence')\n",
    "    df = pd.DataFrame(index=x.index)\n",
    "    df['peaks'] = v\n",
    "    df['halfwidth'] = ph\n",
    "    df['fullwidth'] = pf\n",
    "    df['prominence'] = pr \n",
    "    \n",
    "    return df"
   ]
  },
  {
   "cell_type": "code",
   "execution_count": null,
   "metadata": {},
   "outputs": [],
   "source": []
  }
 ],
 "metadata": {
  "kernelspec": {
   "display_name": ".stockquant",
   "language": "python",
   "name": "python3"
  },
  "language_info": {
   "name": "python",
   "version": "3.10.4 (tags/v3.10.4:9d38120, Mar 23 2022, 23:13:41) [MSC v.1929 64 bit (AMD64)]"
  },
  "orig_nbformat": 4,
  "vscode": {
   "interpreter": {
    "hash": "0a653c3459e962e75f84c835c45b2e756ee3904a9700f9370fb92be2ef53458a"
   }
  }
 },
 "nbformat": 4,
 "nbformat_minor": 2
}
